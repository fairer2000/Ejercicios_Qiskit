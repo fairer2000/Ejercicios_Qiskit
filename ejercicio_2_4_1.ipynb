{
 "cells": [
  {
   "cell_type": "code",
   "execution_count": 28,
   "id": "bca7397a-b0b5-44e6-b2c8-b9d0f1cde472",
   "metadata": {},
   "outputs": [],
   "source": [
    "from qiskit import QuantumCircuit, Aer, assemble\n",
    "import numpy as np\n",
    "from qiskit.visualization import plot_histogram, plot_bloch_multivector\n",
    "\n",
    "from qiskit.visualization import array_to_latex"
   ]
  },
  {
   "cell_type": "code",
   "execution_count": 48,
   "id": "4367e887-b78e-4f5d-9e4c-f69c2faba8c8",
   "metadata": {},
   "outputs": [
    {
     "data": {
      "image/png": "[encoded data removed]",
      "text/plain": [
       "<Figure size 206.852x144.48 with 1 Axes>"
      ]
     },
     "execution_count": 48,
     "metadata": {},
     "output_type": "execute_result"
    }
   ],
   "source": [
    "qc = QuantumCircuit(2)\n",
    "qc.h(1)\n",
    "# Add Controlled-T\n",
    "qc.x(0)\n",
    "qc.h(0)\n",
    "\n",
    "qc.draw()\n",
    "# See Results:"
   ]
  },
  {
   "cell_type": "code",
   "execution_count": 49,
   "id": "f4d7d9a3-3322-4bda-aec4-48df38a761dd",
   "metadata": {},
   "outputs": [
    {
     "data": {
      "text/latex": [
       "$$\n",
       "\\text{Statevector = }\n",
       "\\begin{bmatrix}\n",
       "\\tfrac{1}{2} & -\\tfrac{1}{2} & \\tfrac{1}{2} & -\\tfrac{1}{2}  \\\\\n",
       " \\end{bmatrix}\n",
       "$$"
      ],
      "text/plain": [
       "<IPython.core.display.Latex object>"
      ]
     },
     "execution_count": 49,
     "metadata": {},
     "output_type": "execute_result"
    }
   ],
   "source": [
    "# Let's see the result:\n",
    "svsim = Aer.get_backend('aer_simulator')\n",
    "qc.save_statevector()\n",
    "qobj = assemble(qc)\n",
    "final_state = svsim.run(qobj).result().get_statevector()\n",
    "# Print the statevector neatly:\n",
    "array_to_latex(final_state, prefix=\"\\\\text{Statevector = }\")"
   ]
  },
  {
   "cell_type": "code",
   "execution_count": 52,
   "id": "fb67dc12-1dab-4b74-99f2-84d6e6605502",
   "metadata": {},
   "outputs": [
    {
     "data": {
      "image/png": "[encoded data removed]",
      "text/plain": [
       "<Figure size 447.652x144.48 with 1 Axes>"
      ]
     },
     "execution_count": 52,
     "metadata": {},
     "output_type": "execute_result"
    }
   ],
   "source": [
    "\n",
    "qc_2 = QuantumCircuit(2)\n",
    "qc_2.h(1)\n",
    "# Add Controlled-T\n",
    "qc_2.x(0)\n",
    "qc_2.h(0)\n",
    "\n",
    "\n",
    "qc_2.cx(0,1)\n",
    "qc_2.cx(1,0)\n",
    "qc_2.cx(0,1)\n",
    "qc_2.cx(1,0)\n",
    "\n",
    "qc_2.draw()"
   ]
  },
  {
   "cell_type": "code",
   "execution_count": 53,
   "id": "8c51b781-c492-42b2-b0a9-dec1ce0fff6d",
   "metadata": {
    "tags": []
   },
   "outputs": [
    {
     "data": {
      "text/latex": [
       "$$\n",
       "\\text{Statevector = }\n",
       "\\begin{bmatrix}\n",
       "\\tfrac{1}{2} & \\tfrac{1}{2} & -\\tfrac{1}{2} & -\\tfrac{1}{2}  \\\\\n",
       " \\end{bmatrix}\n",
       "$$"
      ],
      "text/plain": [
       "<IPython.core.display.Latex object>"
      ]
     },
     "execution_count": 53,
     "metadata": {},
     "output_type": "execute_result"
    }
   ],
   "source": [
    "# Let's see the result:\n",
    "svsim = Aer.get_backend('aer_simulator')\n",
    "qc_2.save_statevector()\n",
    "qobj_2 = assemble(qc_2)\n",
    "final_state_2 = svsim.run(qobj_2).result().get_statevector()\n",
    "# Print the statevector neatly:\n",
    "array_to_latex(final_state_2, prefix=\"\\\\text{Statevector = }\")"
   ]
  },
  {
   "cell_type": "code",
   "execution_count": null,
   "id": "6f7aeef0-b2af-4b43-b2f0-208955b59d11",
   "metadata": {},
   "outputs": [],
   "source": []
  },
  {
   "cell_type": "code",
   "execution_count": null,
   "id": "5a7e89da-95cc-40b9-a57c-9fa0f950d7c0",
   "metadata": {},
   "outputs": [],
   "source": []
  }
 ],
 "metadata": {
  "kernelspec": {
   "display_name": "Python 3 (ipykernel)",
   "language": "python",
   "name": "python3"
  },
  "language_info": {
   "codemirror_mode": {
    "name": "ipython",
    "version": 3
   },
   "file_extension": ".py",
   "mimetype": "text/x-python",
   "name": "python",
   "nbconvert_exporter": "python",
   "pygments_lexer": "ipython3",
   "version": "3.8.13"
  },
  "widgets": {
   "application/vnd.jupyter.widget-state+json": {
    "state": {
     "10c3b26efc75402c8d99e80815d6680e": {
      "model_module": "@jupyter-widgets/controls",
      "model_module_version": "1.5.0",
      "model_name": "ButtonModel",
      "state": {
       "button_style": "primary",
       "description": "Clear",
       "layout": "IPY_MODEL_18d43ad2d2e34a22914193437042caab",
       "style": "IPY_MODEL_6fdf31ee71374fcba0b0d804621d027b"
      }
     },
     "119f07f226f449e8b30d0b6dbaf49925": {
      "model_module": "@jupyter-widgets/base",
      "model_module_version": "1.2.0",
      "model_name": "LayoutModel",
      "state": {
       "width": "70px"
      }
     },
     "12c23cfda97347109f9149d113b68ee9": {
      "model_module": "@jupyter-widgets/controls",
      "model_module_version": "1.5.0",
      "model_name": "HTMLModel",
      "state": {
       "layout": "IPY_MODEL_8a727714de5048949a370e567ee5d7f2",
       "style": "IPY_MODEL_d87d8cb61d1f41c3b7811ff0435ea993",
       "value": "<h5>Backend</h5>"
      }
     },
     "18d43ad2d2e34a22914193437042caab": {
      "model_module": "@jupyter-widgets/base",
      "model_module_version": "1.2.0",
      "model_name": "LayoutModel",
      "state": {
       "grid_area": "right",
       "padding": "0px 0px 0px 0px",
       "width": "70px"
      }
     },
     "1c2bfed639c1499eac62e5db10702f2c": {
      "model_module": "@jupyter-widgets/controls",
      "model_module_version": "1.5.0",
      "model_name": "HTMLModel",
      "state": {
       "layout": "IPY_MODEL_c967b411e2494e0fbbe1960ad308ced0",
       "style": "IPY_MODEL_fd19ffaa7f21430c8f212a021dc81b6b",
       "value": "<h5>Status</h5>"
      }
     },
     "1c4bded50e2d42bdbc167bfa3f90a87e": {
      "model_module": "@jupyter-widgets/controls",
      "model_module_version": "1.5.0",
      "model_name": "DescriptionStyleModel",
      "state": {
       "description_width": ""
      }
     },
     "3691fc045b9f424290b442cd4630a33e": {
      "model_module": "@jupyter-widgets/base",
      "model_module_version": "1.2.0",
      "model_name": "LayoutModel",
      "state": {
       "grid_template_areas": "\n                                       \". . . . right \"\n                                        ",
       "grid_template_columns": "20% 20% 20% 20% 20%",
       "width": "100%"
      }
     },
     "38cd69cf8575406dbc862dafd5cd334d": {
      "model_module": "@jupyter-widgets/controls",
      "model_module_version": "1.5.0",
      "model_name": "HBoxModel",
      "state": {
       "children": [
        "IPY_MODEL_81c0b483069f4a34925efe72eee91fb3",
        "IPY_MODEL_12c23cfda97347109f9149d113b68ee9",
        "IPY_MODEL_1c2bfed639c1499eac62e5db10702f2c",
        "IPY_MODEL_963c3433fee84f9192b990e547256a45",
        "IPY_MODEL_eb0a6a49c4764eb783cd0a1bf140d426"
       ],
       "layout": "IPY_MODEL_a1283c715f564a04a21539a5e4d48bb5"
      }
     },
     "495c027dfc11457e8634cbfed3970ed2": {
      "model_module": "@jupyter-widgets/controls",
      "model_module_version": "1.5.0",
      "model_name": "GridBoxModel",
      "state": {
       "children": [
        "IPY_MODEL_10c3b26efc75402c8d99e80815d6680e"
       ],
       "layout": "IPY_MODEL_3691fc045b9f424290b442cd4630a33e"
      }
     },
     "54a35b34c0de4970bf666ec9637fddc7": {
      "model_module": "@jupyter-widgets/base",
      "model_module_version": "1.2.0",
      "model_name": "LayoutModel",
      "state": {}
     },
     "6fdf31ee71374fcba0b0d804621d027b": {
      "model_module": "@jupyter-widgets/controls",
      "model_module_version": "1.5.0",
      "model_name": "ButtonStyleModel",
      "state": {}
     },
     "71b437b575ce4c1395a97d34e9160fc7": {
      "model_module": "@jupyter-widgets/controls",
      "model_module_version": "1.5.0",
      "model_name": "DescriptionStyleModel",
      "state": {
       "description_width": ""
      }
     },
     "774c0739d96c4b2e8f67e05c2bd04f7a": {
      "model_module": "@jupyter-widgets/controls",
      "model_module_version": "1.5.0",
      "model_name": "DescriptionStyleModel",
      "state": {
       "description_width": ""
      }
     },
     "7add516e43e84ca88438d1d1d11929cd": {
      "model_module": "@jupyter-widgets/controls",
      "model_module_version": "1.5.0",
      "model_name": "HTMLModel",
      "state": {
       "layout": "IPY_MODEL_b46062ba11884af593491b8ec09db200",
       "style": "IPY_MODEL_f6eee9e690994b4c8937a10c4162dab8",
       "value": "<p style='font-family: IBM Plex Sans, Arial, Helvetica, sans-serif; font-size: 20px; font-weight: medium;'>Circuit Properties</p>"
      }
     },
     "7d3839f3a1474de59c32d9ac2bdf8fe4": {
      "model_module": "@jupyter-widgets/base",
      "model_module_version": "1.2.0",
      "model_name": "LayoutModel",
      "state": {
       "width": "190px"
      }
     },
     "81c0b483069f4a34925efe72eee91fb3": {
      "model_module": "@jupyter-widgets/controls",
      "model_module_version": "1.5.0",
      "model_name": "HTMLModel",
      "state": {
       "layout": "IPY_MODEL_7d3839f3a1474de59c32d9ac2bdf8fe4",
       "style": "IPY_MODEL_774c0739d96c4b2e8f67e05c2bd04f7a",
       "value": "<h5>Job ID</h5>"
      }
     },
     "8a727714de5048949a370e567ee5d7f2": {
      "model_module": "@jupyter-widgets/base",
      "model_module_version": "1.2.0",
      "model_name": "LayoutModel",
      "state": {
       "width": "145px"
      }
     },
     "963c3433fee84f9192b990e547256a45": {
      "model_module": "@jupyter-widgets/controls",
      "model_module_version": "1.5.0",
      "model_name": "HTMLModel",
      "state": {
       "layout": "IPY_MODEL_119f07f226f449e8b30d0b6dbaf49925",
       "style": "IPY_MODEL_71b437b575ce4c1395a97d34e9160fc7",
       "value": "<h5>Queue</h5>"
      }
     },
     "a1283c715f564a04a21539a5e4d48bb5": {
      "model_module": "@jupyter-widgets/base",
      "model_module_version": "1.2.0",
      "model_name": "LayoutModel",
      "state": {
       "margin": "0px 0px 0px 37px",
       "width": "600px"
      }
     },
     "b46062ba11884af593491b8ec09db200": {
      "model_module": "@jupyter-widgets/base",
      "model_module_version": "1.2.0",
      "model_name": "LayoutModel",
      "state": {
       "margin": "0px 0px 10px 0px"
      }
     },
     "c967b411e2494e0fbbe1960ad308ced0": {
      "model_module": "@jupyter-widgets/base",
      "model_module_version": "1.2.0",
      "model_name": "LayoutModel",
      "state": {
       "width": "95px"
      }
     },
     "d87d8cb61d1f41c3b7811ff0435ea993": {
      "model_module": "@jupyter-widgets/controls",
      "model_module_version": "1.5.0",
      "model_name": "DescriptionStyleModel",
      "state": {
       "description_width": ""
      }
     },
     "eb0a6a49c4764eb783cd0a1bf140d426": {
      "model_module": "@jupyter-widgets/controls",
      "model_module_version": "1.5.0",
      "model_name": "HTMLModel",
      "state": {
       "layout": "IPY_MODEL_54a35b34c0de4970bf666ec9637fddc7",
       "style": "IPY_MODEL_1c4bded50e2d42bdbc167bfa3f90a87e",
       "value": "<h5>Message</h5>"
      }
     },
     "f6eee9e690994b4c8937a10c4162dab8": {
      "model_module": "@jupyter-widgets/controls",
      "model_module_version": "1.5.0",
      "model_name": "DescriptionStyleModel",
      "state": {
       "description_width": ""
      }
     },
     "fd19ffaa7f21430c8f212a021dc81b6b": {
      "model_module": "@jupyter-widgets/controls",
      "model_module_version": "1.5.0",
      "model_name": "DescriptionStyleModel",
      "state": {
       "description_width": ""
      }
     }
    },
    "version_major": 2,
    "version_minor": 0
   }
  }
 },
 "nbformat": 4,
 "nbformat_minor": 5
}
