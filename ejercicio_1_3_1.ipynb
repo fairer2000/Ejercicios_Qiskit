{
 "cells": [
  {
   "cell_type": "code",
   "execution_count": 4,
   "id": "920bd0ae-bfb4-4d9b-9675-327f18f67cd4",
   "metadata": {},
   "outputs": [],
   "source": [
    "from qiskit import QuantumCircuit, assemble, Aer\n",
    "from qiskit.visualization import plot_histogram, plot_bloch_vector\n",
    "from math import sqrt, pi\n",
    "from qiskit_textbook.widgets import state_vector_exercise\n"
   ]
  },
  {
   "cell_type": "code",
   "execution_count": 3,
   "id": "da1f18ae-624a-44e5-a1d0-8195374bb3a5",
   "metadata": {},
   "outputs": [
    {
     "name": "stderr",
     "output_type": "stream",
     "text": [
      "<frozen importlib._bootstrap>:219: RuntimeWarning: scipy._lib.messagestream.MessageStream size changed, may indicate binary incompatibility. Expected 56 from C header, got 64 from PyObject\n"
     ]
    }
   ],
   "source": [
    "sim = Aer.get_backend('aer_simulator')"
   ]
  },
  {
   "cell_type": "code",
   "execution_count": 8,
   "id": "526da46e-5383-4ecc-b68e-21a7815940f0",
   "metadata": {},
   "outputs": [],
   "source": [
    "initial_state = [1j/sqrt(3), sqrt(2)/sqrt(3)]  # Define state |q_0>\n"
   ]
  },
  {
   "cell_type": "code",
   "execution_count": 9,
   "id": "f8be6f6c-befb-428e-a0c3-d61a8a166664",
   "metadata": {},
   "outputs": [
    {
     "name": "stdout",
     "output_type": "stream",
     "text": [
      "Statevector([0.        +0.57735027j, 0.81649658+0.j        ],\n",
      "            dims=(2,))\n"
     ]
    }
   ],
   "source": [
    "qc = QuantumCircuit(1) # Must redefine qc\n",
    "qc.initialize(initial_state, 0) # Initialize the 0th qubit in the state `initial_state`\n",
    "qc.save_statevector() # Save statevector\n",
    "qobj = assemble(qc)\n",
    "state = sim.run(qobj).result().get_statevector() # Execute the circuit\n",
    "print(state)           # Print the result"
   ]
  },
  {
   "cell_type": "code",
   "execution_count": 10,
   "id": "70ea3e97-f29d-47e6-b9c4-546af74dac99",
   "metadata": {},
   "outputs": [
    {
     "data": {
      "image/png": "[encoded data removed]",
      "text/plain": [
       "<Figure size 504x360 with 1 Axes>"
      ]
     },
     "execution_count": 10,
     "metadata": {},
     "output_type": "execute_result"
    }
   ],
   "source": [
    "qobj = assemble(qc)\n",
    "results = sim.run(qobj).result().get_counts()\n",
    "plot_histogram(results)"
   ]
  },
  {
   "cell_type": "code",
   "execution_count": 11,
   "id": "43f4caf5-2de9-4374-b27b-ab9c8c348c17",
   "metadata": {},
   "outputs": [],
   "source": [
    "initial_state_2 = [1/sqrt(3), sqrt(2)/sqrt(3)]  # Define state |q_0>\n"
   ]
  },
  {
   "cell_type": "code",
   "execution_count": 14,
   "id": "2368fd5a-896f-4b7c-81fd-088e76575da4",
   "metadata": {},
   "outputs": [
    {
     "name": "stdout",
     "output_type": "stream",
     "text": [
      "Statevector([0.57735027+0.j, 0.81649658+0.j],\n",
      "            dims=(2,))\n"
     ]
    }
   ],
   "source": [
    "qc_2 = QuantumCircuit(1) # Must redefine qc\n",
    "qc_2.initialize(initial_state_2, 0) # Initialize the 0th qubit in the state `initial_state`\n",
    "qc_2.save_statevector() # Save statevector\n",
    "qobj_2 = assemble(qc_2)\n",
    "state_2 = sim.run(qobj_2).result().get_statevector() # Execute the circuit\n",
    "print(state_2)           # Print the result"
   ]
  },
  {
   "cell_type": "code",
   "execution_count": 15,
   "id": "44f4898f-dd74-4fe5-9962-cbabb79c5611",
   "metadata": {},
   "outputs": [
    {
     "data": {
      "image/png": "[encoded data removed]",
      "text/plain": [
       "<Figure size 504x360 with 1 Axes>"
      ]
     },
     "execution_count": 15,
     "metadata": {},
     "output_type": "execute_result"
    }
   ],
   "source": [
    "qobj_2 = assemble(qc_2)\n",
    "results_2 = sim.run(qobj_2).result().get_counts()\n",
    "plot_histogram(results_2)"
   ]
  },
  {
   "cell_type": "code",
   "execution_count": null,
   "id": "73c316c3-7365-43d4-bbd6-0939fc1631f2",
   "metadata": {},
   "outputs": [],
   "source": []
  }
 ],
 "metadata": {
  "kernelspec": {
   "display_name": "Python 3 (ipykernel)",
   "language": "python",
   "name": "python3"
  },
  "language_info": {
   "codemirror_mode": {
    "name": "ipython",
    "version": 3
   },
   "file_extension": ".py",
   "mimetype": "text/x-python",
   "name": "python",
   "nbconvert_exporter": "python",
   "pygments_lexer": "ipython3",
   "version": "3.8.13"
  },
  "widgets": {
   "application/vnd.jupyter.widget-state+json": {
    "state": {},
    "version_major": 2,
    "version_minor": 0
   }
  }
 },
 "nbformat": 4,
 "nbformat_minor": 5
}
